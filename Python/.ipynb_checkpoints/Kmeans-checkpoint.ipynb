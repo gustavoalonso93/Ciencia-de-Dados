{
 "cells": [
  {
   "cell_type": "code",
   "execution_count": 1,
   "id": "fb9683db",
   "metadata": {},
   "outputs": [],
   "source": [
    "import pandas as pd\n",
    "import numpy as np\n",
    "import matplotlib.pyplot as plt\n",
    "import seaborn as sns\n",
    "sns.set()"
   ]
  },
  {
   "cell_type": "code",
   "execution_count": 2,
   "id": "cd0dcc14",
   "metadata": {},
   "outputs": [],
   "source": [
    "IrisData = pd.read_csv('iris.data', header=None)\n",
    "IrisData.columns = ['Sepal Length','Sepal Width','Petal Length','Petal Width','Type']"
   ]
  },
  {
   "cell_type": "code",
   "execution_count": 3,
   "id": "6ffb0426",
   "metadata": {},
   "outputs": [],
   "source": [
    "listname = []\n",
    "for i in range(len(IrisData['Type'])):\n",
    "    if not(IrisData['Type'][i] in listname):\n",
    "        listname.append(IrisData['Type'][i])"
   ]
  },
  {
   "cell_type": "code",
   "execution_count": 4,
   "id": "536565dd",
   "metadata": {},
   "outputs": [
    {
     "data": {
      "text/plain": [
       "{'Iris-setosa': 0, 'Iris-versicolor': 1, 'Iris-virginica': 2}"
      ]
     },
     "execution_count": 4,
     "metadata": {},
     "output_type": "execute_result"
    }
   ],
   "source": [
    "dicttypes = dict(zip(listname,[0,1,2]))\n",
    "dicttypes"
   ]
  },
  {
   "cell_type": "code",
   "execution_count": 5,
   "id": "0465d99d",
   "metadata": {},
   "outputs": [],
   "source": [
    "categoria = []\n",
    "for i in IrisData['Type']:\n",
    "    categoria.append(dicttypes[i])"
   ]
  },
  {
   "cell_type": "code",
   "execution_count": 6,
   "id": "9229845d",
   "metadata": {},
   "outputs": [
    {
     "data": {
      "text/html": [
       "<div>\n",
       "<style scoped>\n",
       "    .dataframe tbody tr th:only-of-type {\n",
       "        vertical-align: middle;\n",
       "    }\n",
       "\n",
       "    .dataframe tbody tr th {\n",
       "        vertical-align: top;\n",
       "    }\n",
       "\n",
       "    .dataframe thead th {\n",
       "        text-align: right;\n",
       "    }\n",
       "</style>\n",
       "<table border=\"1\" class=\"dataframe\">\n",
       "  <thead>\n",
       "    <tr style=\"text-align: right;\">\n",
       "      <th></th>\n",
       "      <th>Sepal Length</th>\n",
       "      <th>Sepal Width</th>\n",
       "      <th>Petal Length</th>\n",
       "      <th>Petal Width</th>\n",
       "      <th>Type</th>\n",
       "      <th>Cate-type</th>\n",
       "    </tr>\n",
       "  </thead>\n",
       "  <tbody>\n",
       "    <tr>\n",
       "      <th>0</th>\n",
       "      <td>5.1</td>\n",
       "      <td>3.5</td>\n",
       "      <td>1.4</td>\n",
       "      <td>0.2</td>\n",
       "      <td>Iris-setosa</td>\n",
       "      <td>0</td>\n",
       "    </tr>\n",
       "    <tr>\n",
       "      <th>1</th>\n",
       "      <td>4.9</td>\n",
       "      <td>3.0</td>\n",
       "      <td>1.4</td>\n",
       "      <td>0.2</td>\n",
       "      <td>Iris-setosa</td>\n",
       "      <td>0</td>\n",
       "    </tr>\n",
       "    <tr>\n",
       "      <th>2</th>\n",
       "      <td>4.7</td>\n",
       "      <td>3.2</td>\n",
       "      <td>1.3</td>\n",
       "      <td>0.2</td>\n",
       "      <td>Iris-setosa</td>\n",
       "      <td>0</td>\n",
       "    </tr>\n",
       "    <tr>\n",
       "      <th>3</th>\n",
       "      <td>4.6</td>\n",
       "      <td>3.1</td>\n",
       "      <td>1.5</td>\n",
       "      <td>0.2</td>\n",
       "      <td>Iris-setosa</td>\n",
       "      <td>0</td>\n",
       "    </tr>\n",
       "    <tr>\n",
       "      <th>4</th>\n",
       "      <td>5.0</td>\n",
       "      <td>3.6</td>\n",
       "      <td>1.4</td>\n",
       "      <td>0.2</td>\n",
       "      <td>Iris-setosa</td>\n",
       "      <td>0</td>\n",
       "    </tr>\n",
       "    <tr>\n",
       "      <th>...</th>\n",
       "      <td>...</td>\n",
       "      <td>...</td>\n",
       "      <td>...</td>\n",
       "      <td>...</td>\n",
       "      <td>...</td>\n",
       "      <td>...</td>\n",
       "    </tr>\n",
       "    <tr>\n",
       "      <th>145</th>\n",
       "      <td>6.7</td>\n",
       "      <td>3.0</td>\n",
       "      <td>5.2</td>\n",
       "      <td>2.3</td>\n",
       "      <td>Iris-virginica</td>\n",
       "      <td>2</td>\n",
       "    </tr>\n",
       "    <tr>\n",
       "      <th>146</th>\n",
       "      <td>6.3</td>\n",
       "      <td>2.5</td>\n",
       "      <td>5.0</td>\n",
       "      <td>1.9</td>\n",
       "      <td>Iris-virginica</td>\n",
       "      <td>2</td>\n",
       "    </tr>\n",
       "    <tr>\n",
       "      <th>147</th>\n",
       "      <td>6.5</td>\n",
       "      <td>3.0</td>\n",
       "      <td>5.2</td>\n",
       "      <td>2.0</td>\n",
       "      <td>Iris-virginica</td>\n",
       "      <td>2</td>\n",
       "    </tr>\n",
       "    <tr>\n",
       "      <th>148</th>\n",
       "      <td>6.2</td>\n",
       "      <td>3.4</td>\n",
       "      <td>5.4</td>\n",
       "      <td>2.3</td>\n",
       "      <td>Iris-virginica</td>\n",
       "      <td>2</td>\n",
       "    </tr>\n",
       "    <tr>\n",
       "      <th>149</th>\n",
       "      <td>5.9</td>\n",
       "      <td>3.0</td>\n",
       "      <td>5.1</td>\n",
       "      <td>1.8</td>\n",
       "      <td>Iris-virginica</td>\n",
       "      <td>2</td>\n",
       "    </tr>\n",
       "  </tbody>\n",
       "</table>\n",
       "<p>150 rows × 6 columns</p>\n",
       "</div>"
      ],
      "text/plain": [
       "     Sepal Length  Sepal Width  Petal Length  Petal Width            Type  \\\n",
       "0             5.1          3.5           1.4          0.2     Iris-setosa   \n",
       "1             4.9          3.0           1.4          0.2     Iris-setosa   \n",
       "2             4.7          3.2           1.3          0.2     Iris-setosa   \n",
       "3             4.6          3.1           1.5          0.2     Iris-setosa   \n",
       "4             5.0          3.6           1.4          0.2     Iris-setosa   \n",
       "..            ...          ...           ...          ...             ...   \n",
       "145           6.7          3.0           5.2          2.3  Iris-virginica   \n",
       "146           6.3          2.5           5.0          1.9  Iris-virginica   \n",
       "147           6.5          3.0           5.2          2.0  Iris-virginica   \n",
       "148           6.2          3.4           5.4          2.3  Iris-virginica   \n",
       "149           5.9          3.0           5.1          1.8  Iris-virginica   \n",
       "\n",
       "     Cate-type  \n",
       "0            0  \n",
       "1            0  \n",
       "2            0  \n",
       "3            0  \n",
       "4            0  \n",
       "..         ...  \n",
       "145          2  \n",
       "146          2  \n",
       "147          2  \n",
       "148          2  \n",
       "149          2  \n",
       "\n",
       "[150 rows x 6 columns]"
      ]
     },
     "execution_count": 6,
     "metadata": {},
     "output_type": "execute_result"
    }
   ],
   "source": [
    "IrisData['Cate-type'] = categoria\n",
    "IrisData"
   ]
  },
  {
   "cell_type": "code",
   "execution_count": 7,
   "id": "1283ae8b",
   "metadata": {},
   "outputs": [],
   "source": [
    "from sklearn.cluster import KMeans\n",
    "from sklearn.model_selection import train_test_split"
   ]
  },
  {
   "cell_type": "code",
   "execution_count": 8,
   "id": "1b4a1fec",
   "metadata": {},
   "outputs": [],
   "source": [
    "x = IrisData[['Petal Length', 'Petal Width']]\n",
    "y = IrisData['Cate-type']"
   ]
  },
  {
   "cell_type": "code",
   "execution_count": 9,
   "id": "4636c643",
   "metadata": {},
   "outputs": [],
   "source": [
    "x_treino, x_teste, y_treino, y_teste = train_test_split(x,y , test_size=0.3)"
   ]
  },
  {
   "cell_type": "code",
   "execution_count": 10,
   "id": "f501965a",
   "metadata": {},
   "outputs": [],
   "source": [
    "Model_kmeans = KMeans(n_clusters=3)\n",
    "Mcluester  = Model_kmeans.fit(x_treino)"
   ]
  },
  {
   "cell_type": "code",
   "execution_count": 11,
   "id": "cba41b77",
   "metadata": {},
   "outputs": [
    {
     "data": {
      "text/plain": [
       "23.8200116713352"
      ]
     },
     "execution_count": 11,
     "metadata": {},
     "output_type": "execute_result"
    }
   ],
   "source": [
    "Mcluester.inertia_"
   ]
  },
  {
   "cell_type": "code",
   "execution_count": 12,
   "id": "98f2cd67",
   "metadata": {},
   "outputs": [
    {
     "data": {
      "text/plain": [
       "array([2, 0, 0, 0, 2, 1, 1, 1, 1, 1, 2, 2, 1, 0, 1, 2, 1, 2, 2, 2, 2, 0,\n",
       "       0, 1, 0, 0, 1, 2, 2, 2, 1, 0, 0, 1, 2, 1, 0, 2, 0, 1, 1, 2, 0, 0,\n",
       "       1, 2, 1, 2, 2, 1, 1, 1, 0, 0, 0, 1, 1, 2, 0, 0, 0, 1, 1, 2, 1, 2,\n",
       "       0, 2, 2, 0, 0, 2, 0, 1, 1, 2, 2, 2, 0, 0, 0, 1, 2, 1, 0, 1, 1, 2,\n",
       "       0, 2, 0, 1, 1, 0, 2, 0, 1, 0, 2, 2, 2, 2, 1, 0, 1])"
      ]
     },
     "execution_count": 12,
     "metadata": {},
     "output_type": "execute_result"
    }
   ],
   "source": [
    "Mcluester.labels_"
   ]
  },
  {
   "cell_type": "code",
   "execution_count": 13,
   "id": "2bfe7fa1",
   "metadata": {},
   "outputs": [
    {
     "data": {
      "text/plain": [
       "array([[4.29117647, 1.35      ],\n",
       "       [5.66111111, 2.06944444],\n",
       "       [1.45428571, 0.23428571]])"
      ]
     },
     "execution_count": 13,
     "metadata": {},
     "output_type": "execute_result"
    }
   ],
   "source": [
    "Mcluester.cluster_centers_"
   ]
  },
  {
   "cell_type": "code",
   "execution_count": 14,
   "id": "cb8d42e1",
   "metadata": {},
   "outputs": [
    {
     "name": "stdout",
     "output_type": "stream",
     "text": [
      "[4.291176470588235, 5.661111111111111, 1.4542857142857146]\n",
      "[1.35, 2.069444444444444, 0.23428571428571432]\n"
     ]
    }
   ],
   "source": [
    "centerx = []\n",
    "centery = []\n",
    "for i in range(3):\n",
    "    centerx.append(Mcluester.cluster_centers_[i][0])\n",
    "    centery.append(Mcluester.cluster_centers_[i][1])\n",
    "\n",
    "print(centerx)\n",
    "print(centery)"
   ]
  },
  {
   "cell_type": "code",
   "execution_count": 15,
   "id": "87d9b21e",
   "metadata": {},
   "outputs": [],
   "source": [
    "colores = {2:\"Blue\",0:\"Orange\",1:\"green\" }\n",
    "color_names  = {'Iris-virginica':\"Blue\",'Iris-setosa':\"Orange\",'Iris-versicolor':\"green\" }\n",
    "Array_Colors =[colores[x] for x in IrisData['Cate-type']]"
   ]
  },
  {
   "cell_type": "code",
   "execution_count": 28,
   "id": "348e1fb9",
   "metadata": {},
   "outputs": [
    {
     "data": {
      "text/plain": [
       "<matplotlib.legend.Legend at 0x1d9c0d85820>"
      ]
     },
     "execution_count": 28,
     "metadata": {},
     "output_type": "execute_result"
    },
    {
     "data": {
      "image/png": "[encoded data removed]",
      "text/plain": [
       "<Figure size 1080x720 with 1 Axes>"
      ]
     },
     "metadata": {},
     "output_type": "display_data"
    }
   ],
   "source": [
    "plt.figure(figsize=(15,10))\n",
    "plt.scatter(centerx,centery, color='red', label='Centroides')\n",
    "plt.scatter(IrisData['Petal Length'],IrisData['Petal Width'], color=Array_Colors)\n",
    "plt.xlabel('Petal Length')\n",
    "plt.ylabel('Petal Width')\n",
    "plt.title('Petal', fontsize=20)\n",
    "plt.legend()"
   ]
  },
  {
   "cell_type": "code",
   "execution_count": 25,
   "id": "fd0447eb",
   "metadata": {},
   "outputs": [],
   "source": [
    "result = pd.DataFrame(y_treino)\n",
    "result['Previsto'] = Mcluester.labels_"
   ]
  },
  {
   "cell_type": "code",
   "execution_count": 27,
   "id": "ca146b92",
   "metadata": {},
   "outputs": [
    {
     "data": {
      "text/plain": [
       "array([[4.29117647, 1.35      ],\n",
       "       [5.66111111, 2.06944444],\n",
       "       [1.45428571, 0.23428571]])"
      ]
     },
     "execution_count": 27,
     "metadata": {},
     "output_type": "execute_result"
    }
   ],
   "source": [
    "Mcluester.cluster_centers_"
   ]
  },
  {
   "cell_type": "code",
   "execution_count": 33,
   "id": "9f00bddc",
   "metadata": {},
   "outputs": [
    {
     "data": {
      "text/plain": [
       "{'Iris-virginica': 'Blue', 'Iris-setosa': 'Orange', 'Iris-versicolor': 'green'}"
      ]
     },
     "execution_count": 33,
     "metadata": {},
     "output_type": "execute_result"
    }
   ],
   "source": [
    "color_names"
   ]
  },
  {
   "cell_type": "code",
   "execution_count": 34,
   "id": "c90a9037",
   "metadata": {},
   "outputs": [
    {
     "data": {
      "text/plain": [
       "{2: 'Blue', 0: 'Orange', 1: 'green'}"
      ]
     },
     "execution_count": 34,
     "metadata": {},
     "output_type": "execute_result"
    }
   ],
   "source": [
    "colores"
   ]
  },
  {
   "cell_type": "code",
   "execution_count": 37,
   "id": "e9eea753",
   "metadata": {},
   "outputs": [],
   "source": [
    "troca = []\n",
    "for i in result['Previsto']:\n",
    "    if i == 0:\n",
    "        troca.append(2)\n",
    "    if i == 2:\n",
    "        troca.append(0)\n",
    "    if i == 1:\n",
    "        troca.append(1)"
   ]
  },
  {
   "cell_type": "code",
   "execution_count": 38,
   "id": "67b883d0",
   "metadata": {},
   "outputs": [],
   "source": [
    "result['Previsto'] = troca"
   ]
  },
  {
   "cell_type": "code",
   "execution_count": null,
   "id": "369d44ef",
   "metadata": {},
   "outputs": [],
   "source": [
    "#não terminado"
   ]
  }
 ],
 "metadata": {
  "kernelspec": {
   "display_name": "Python 3 (ipykernel)",
   "language": "python",
   "name": "python3"
  },
  "language_info": {
   "codemirror_mode": {
    "name": "ipython",
    "version": 3
   },
   "file_extension": ".py",
   "mimetype": "text/x-python",
   "name": "python",
   "nbconvert_exporter": "python",
   "pygments_lexer": "ipython3",
   "version": "3.8.13"
  }
 },
 "nbformat": 4,
 "nbformat_minor": 5
}
