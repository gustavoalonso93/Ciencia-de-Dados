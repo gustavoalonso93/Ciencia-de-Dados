{
 "cells": [
  {
   "cell_type": "code",
   "execution_count": 2,
   "id": "6f7f8108",
   "metadata": {},
   "outputs": [],
   "source": [
    "import pandas as pd\n",
    "import numpy as np\n",
    "import matplotlib.pyplot as plt\n",
    "import seaborn as sns\n",
    "\n",
    "sns.set()"
   ]
  },
  {
   "cell_type": "code",
   "execution_count": 3,
   "id": "c5cbba09",
   "metadata": {},
   "outputs": [
    {
     "data": {
      "text/html": [
       "<div>\n",
       "<style scoped>\n",
       "    .dataframe tbody tr th:only-of-type {\n",
       "        vertical-align: middle;\n",
       "    }\n",
       "\n",
       "    .dataframe tbody tr th {\n",
       "        vertical-align: top;\n",
       "    }\n",
       "\n",
       "    .dataframe thead th {\n",
       "        text-align: right;\n",
       "    }\n",
       "</style>\n",
       "<table border=\"1\" class=\"dataframe\">\n",
       "  <thead>\n",
       "    <tr style=\"text-align: right;\">\n",
       "      <th></th>\n",
       "      <th>fixed acidity</th>\n",
       "      <th>volatile acidity</th>\n",
       "      <th>citric acid</th>\n",
       "      <th>residual sugar</th>\n",
       "      <th>chlorides</th>\n",
       "      <th>free sulfur dioxide</th>\n",
       "      <th>total sulfur dioxide</th>\n",
       "      <th>density</th>\n",
       "      <th>pH</th>\n",
       "      <th>sulphates</th>\n",
       "      <th>alcohol</th>\n",
       "      <th>quality</th>\n",
       "    </tr>\n",
       "  </thead>\n",
       "  <tbody>\n",
       "    <tr>\n",
       "      <th>0</th>\n",
       "      <td>7.0</td>\n",
       "      <td>0.27</td>\n",
       "      <td>0.36</td>\n",
       "      <td>20.7</td>\n",
       "      <td>0.045</td>\n",
       "      <td>45.0</td>\n",
       "      <td>170.0</td>\n",
       "      <td>1.00100</td>\n",
       "      <td>3.00</td>\n",
       "      <td>0.45</td>\n",
       "      <td>8.8</td>\n",
       "      <td>6</td>\n",
       "    </tr>\n",
       "    <tr>\n",
       "      <th>1</th>\n",
       "      <td>6.3</td>\n",
       "      <td>0.30</td>\n",
       "      <td>0.34</td>\n",
       "      <td>1.6</td>\n",
       "      <td>0.049</td>\n",
       "      <td>14.0</td>\n",
       "      <td>132.0</td>\n",
       "      <td>0.99400</td>\n",
       "      <td>3.30</td>\n",
       "      <td>0.49</td>\n",
       "      <td>9.5</td>\n",
       "      <td>6</td>\n",
       "    </tr>\n",
       "    <tr>\n",
       "      <th>2</th>\n",
       "      <td>8.1</td>\n",
       "      <td>0.28</td>\n",
       "      <td>0.40</td>\n",
       "      <td>6.9</td>\n",
       "      <td>0.050</td>\n",
       "      <td>30.0</td>\n",
       "      <td>97.0</td>\n",
       "      <td>0.99510</td>\n",
       "      <td>3.26</td>\n",
       "      <td>0.44</td>\n",
       "      <td>10.1</td>\n",
       "      <td>6</td>\n",
       "    </tr>\n",
       "    <tr>\n",
       "      <th>3</th>\n",
       "      <td>7.2</td>\n",
       "      <td>0.23</td>\n",
       "      <td>0.32</td>\n",
       "      <td>8.5</td>\n",
       "      <td>0.058</td>\n",
       "      <td>47.0</td>\n",
       "      <td>186.0</td>\n",
       "      <td>0.99560</td>\n",
       "      <td>3.19</td>\n",
       "      <td>0.40</td>\n",
       "      <td>9.9</td>\n",
       "      <td>6</td>\n",
       "    </tr>\n",
       "    <tr>\n",
       "      <th>4</th>\n",
       "      <td>7.2</td>\n",
       "      <td>0.23</td>\n",
       "      <td>0.32</td>\n",
       "      <td>8.5</td>\n",
       "      <td>0.058</td>\n",
       "      <td>47.0</td>\n",
       "      <td>186.0</td>\n",
       "      <td>0.99560</td>\n",
       "      <td>3.19</td>\n",
       "      <td>0.40</td>\n",
       "      <td>9.9</td>\n",
       "      <td>6</td>\n",
       "    </tr>\n",
       "    <tr>\n",
       "      <th>...</th>\n",
       "      <td>...</td>\n",
       "      <td>...</td>\n",
       "      <td>...</td>\n",
       "      <td>...</td>\n",
       "      <td>...</td>\n",
       "      <td>...</td>\n",
       "      <td>...</td>\n",
       "      <td>...</td>\n",
       "      <td>...</td>\n",
       "      <td>...</td>\n",
       "      <td>...</td>\n",
       "      <td>...</td>\n",
       "    </tr>\n",
       "    <tr>\n",
       "      <th>4893</th>\n",
       "      <td>6.2</td>\n",
       "      <td>0.21</td>\n",
       "      <td>0.29</td>\n",
       "      <td>1.6</td>\n",
       "      <td>0.039</td>\n",
       "      <td>24.0</td>\n",
       "      <td>92.0</td>\n",
       "      <td>0.99114</td>\n",
       "      <td>3.27</td>\n",
       "      <td>0.50</td>\n",
       "      <td>11.2</td>\n",
       "      <td>6</td>\n",
       "    </tr>\n",
       "    <tr>\n",
       "      <th>4894</th>\n",
       "      <td>6.6</td>\n",
       "      <td>0.32</td>\n",
       "      <td>0.36</td>\n",
       "      <td>8.0</td>\n",
       "      <td>0.047</td>\n",
       "      <td>57.0</td>\n",
       "      <td>168.0</td>\n",
       "      <td>0.99490</td>\n",
       "      <td>3.15</td>\n",
       "      <td>0.46</td>\n",
       "      <td>9.6</td>\n",
       "      <td>5</td>\n",
       "    </tr>\n",
       "    <tr>\n",
       "      <th>4895</th>\n",
       "      <td>6.5</td>\n",
       "      <td>0.24</td>\n",
       "      <td>0.19</td>\n",
       "      <td>1.2</td>\n",
       "      <td>0.041</td>\n",
       "      <td>30.0</td>\n",
       "      <td>111.0</td>\n",
       "      <td>0.99254</td>\n",
       "      <td>2.99</td>\n",
       "      <td>0.46</td>\n",
       "      <td>9.4</td>\n",
       "      <td>6</td>\n",
       "    </tr>\n",
       "    <tr>\n",
       "      <th>4896</th>\n",
       "      <td>5.5</td>\n",
       "      <td>0.29</td>\n",
       "      <td>0.30</td>\n",
       "      <td>1.1</td>\n",
       "      <td>0.022</td>\n",
       "      <td>20.0</td>\n",
       "      <td>110.0</td>\n",
       "      <td>0.98869</td>\n",
       "      <td>3.34</td>\n",
       "      <td>0.38</td>\n",
       "      <td>12.8</td>\n",
       "      <td>7</td>\n",
       "    </tr>\n",
       "    <tr>\n",
       "      <th>4897</th>\n",
       "      <td>6.0</td>\n",
       "      <td>0.21</td>\n",
       "      <td>0.38</td>\n",
       "      <td>0.8</td>\n",
       "      <td>0.020</td>\n",
       "      <td>22.0</td>\n",
       "      <td>98.0</td>\n",
       "      <td>0.98941</td>\n",
       "      <td>3.26</td>\n",
       "      <td>0.32</td>\n",
       "      <td>11.8</td>\n",
       "      <td>6</td>\n",
       "    </tr>\n",
       "  </tbody>\n",
       "</table>\n",
       "<p>4898 rows × 12 columns</p>\n",
       "</div>"
      ],
      "text/plain": [
       "      fixed acidity  volatile acidity  citric acid  residual sugar  chlorides  \\\n",
       "0               7.0              0.27         0.36            20.7      0.045   \n",
       "1               6.3              0.30         0.34             1.6      0.049   \n",
       "2               8.1              0.28         0.40             6.9      0.050   \n",
       "3               7.2              0.23         0.32             8.5      0.058   \n",
       "4               7.2              0.23         0.32             8.5      0.058   \n",
       "...             ...               ...          ...             ...        ...   \n",
       "4893            6.2              0.21         0.29             1.6      0.039   \n",
       "4894            6.6              0.32         0.36             8.0      0.047   \n",
       "4895            6.5              0.24         0.19             1.2      0.041   \n",
       "4896            5.5              0.29         0.30             1.1      0.022   \n",
       "4897            6.0              0.21         0.38             0.8      0.020   \n",
       "\n",
       "      free sulfur dioxide  total sulfur dioxide  density    pH  sulphates  \\\n",
       "0                    45.0                 170.0  1.00100  3.00       0.45   \n",
       "1                    14.0                 132.0  0.99400  3.30       0.49   \n",
       "2                    30.0                  97.0  0.99510  3.26       0.44   \n",
       "3                    47.0                 186.0  0.99560  3.19       0.40   \n",
       "4                    47.0                 186.0  0.99560  3.19       0.40   \n",
       "...                   ...                   ...      ...   ...        ...   \n",
       "4893                 24.0                  92.0  0.99114  3.27       0.50   \n",
       "4894                 57.0                 168.0  0.99490  3.15       0.46   \n",
       "4895                 30.0                 111.0  0.99254  2.99       0.46   \n",
       "4896                 20.0                 110.0  0.98869  3.34       0.38   \n",
       "4897                 22.0                  98.0  0.98941  3.26       0.32   \n",
       "\n",
       "      alcohol  quality  \n",
       "0         8.8        6  \n",
       "1         9.5        6  \n",
       "2        10.1        6  \n",
       "3         9.9        6  \n",
       "4         9.9        6  \n",
       "...       ...      ...  \n",
       "4893     11.2        6  \n",
       "4894      9.6        5  \n",
       "4895      9.4        6  \n",
       "4896     12.8        7  \n",
       "4897     11.8        6  \n",
       "\n",
       "[4898 rows x 12 columns]"
      ]
     },
     "execution_count": 3,
     "metadata": {},
     "output_type": "execute_result"
    }
   ],
   "source": [
    "WineData = pd.read_csv('winequality-white.csv', sep=';')\n",
    "WineData"
   ]
  },
  {
   "cell_type": "code",
   "execution_count": 4,
   "id": "19f0ba2d",
   "metadata": {},
   "outputs": [
    {
     "name": "stdout",
     "output_type": "stream",
     "text": [
      "fixed acidity           False\n",
      "volatile acidity        False\n",
      "citric acid             False\n",
      "residual sugar          False\n",
      "chlorides               False\n",
      "free sulfur dioxide     False\n",
      "total sulfur dioxide    False\n",
      "density                 False\n",
      "pH                      False\n",
      "sulphates               False\n",
      "alcohol                 False\n",
      "quality                 False\n",
      "dtype: bool\n",
      "fixed acidity           False\n",
      "volatile acidity        False\n",
      "citric acid             False\n",
      "residual sugar          False\n",
      "chlorides               False\n",
      "free sulfur dioxide     False\n",
      "total sulfur dioxide    False\n",
      "density                 False\n",
      "pH                      False\n",
      "sulphates               False\n",
      "alcohol                 False\n",
      "quality                 False\n",
      "dtype: bool\n"
     ]
    }
   ],
   "source": [
    "print(WineData.isnull().any())\n",
    "print(WineData.isna().any())"
   ]
  },
  {
   "cell_type": "code",
   "execution_count": 5,
   "id": "ddd2ee7d",
   "metadata": {},
   "outputs": [
    {
     "data": {
      "text/plain": [
       "array([[<AxesSubplot:title={'center':'fixed acidity'}>,\n",
       "        <AxesSubplot:title={'center':'volatile acidity'}>,\n",
       "        <AxesSubplot:title={'center':'citric acid'}>],\n",
       "       [<AxesSubplot:title={'center':'residual sugar'}>,\n",
       "        <AxesSubplot:title={'center':'chlorides'}>,\n",
       "        <AxesSubplot:title={'center':'free sulfur dioxide'}>],\n",
       "       [<AxesSubplot:title={'center':'total sulfur dioxide'}>,\n",
       "        <AxesSubplot:title={'center':'density'}>,\n",
       "        <AxesSubplot:title={'center':'pH'}>],\n",
       "       [<AxesSubplot:title={'center':'sulphates'}>,\n",
       "        <AxesSubplot:title={'center':'alcohol'}>,\n",
       "        <AxesSubplot:title={'center':'quality'}>]], dtype=object)"
      ]
     },
     "execution_count": 5,
     "metadata": {},
     "output_type": "execute_result"
    },
    {
     "data": {
      "image/png": "[encoded data removed]",
      "text/plain": [
       "<Figure size 1080x720 with 12 Axes>"
      ]
     },
     "metadata": {},
     "output_type": "display_data"
    }
   ],
   "source": [
    "WineData.hist(figsize=(15,10),\n",
    "              bins = 20)"
   ]
  },
  {
   "cell_type": "code",
   "execution_count": 6,
   "id": "d34dd444",
   "metadata": {},
   "outputs": [],
   "source": [
    "x = WineData.drop('quality', axis=1)\n",
    "y = WineData['quality']"
   ]
  },
  {
   "cell_type": "code",
   "execution_count": 7,
   "id": "7c69093b",
   "metadata": {},
   "outputs": [],
   "source": [
    "from sklearn.model_selection import train_test_split\n",
    "\n",
    "x_treino, x_teste, y_treino, y_teste = train_test_split(x,y, test_size=0.3)"
   ]
  },
  {
   "cell_type": "code",
   "execution_count": 8,
   "id": "a01074c6",
   "metadata": {},
   "outputs": [],
   "source": [
    "from sklearn.ensemble import RandomForestRegressor"
   ]
  },
  {
   "cell_type": "code",
   "execution_count": 9,
   "id": "d53a59bf",
   "metadata": {},
   "outputs": [
    {
     "data": {
      "text/plain": [
       "RandomForestRegressor(max_depth=3, n_estimators=1000, n_jobs=-1, oob_score=True)"
      ]
     },
     "execution_count": 9,
     "metadata": {},
     "output_type": "execute_result"
    }
   ],
   "source": [
    "RF_wine_white = RandomForestRegressor(bootstrap = True,\n",
    "                criterion = 'squared_error', max_depth = 3, max_features = 'auto',\n",
    "                min_samples_leaf = 1, min_samples_split = 2,\n",
    "                n_estimators = 1000, n_jobs = -1, oob_score = True)\n",
    "\n",
    "RF_wine_white.fit(x_treino,y_treino)"
   ]
  },
  {
   "cell_type": "code",
   "execution_count": 10,
   "id": "8813a5cc",
   "metadata": {},
   "outputs": [],
   "source": [
    "y_pred_teste = RF_wine_white.predict(x_teste)\n",
    "y_pred_treino = RF_wine_white.predict(x_treino)"
   ]
  },
  {
   "cell_type": "code",
   "execution_count": 11,
   "id": "e358933d",
   "metadata": {},
   "outputs": [],
   "source": [
    "import sklearn.metrics as metrics\n",
    "from math import sqrt"
   ]
  },
  {
   "cell_type": "code",
   "execution_count": 12,
   "id": "cd993693",
   "metadata": {
    "scrolled": true
   },
   "outputs": [
    {
     "name": "stdout",
     "output_type": "stream",
     "text": [
      "----- Treino 1 --------\n",
      "MAE:  0.59\n",
      "R2:  0.32\n",
      "RMSE:  0.73\n",
      "----- Teste 1 --------\n",
      "MAE:  0.59\n",
      "R2:  0.27\n",
      "RMSE:  0.75\n"
     ]
    }
   ],
   "source": [
    "MAE_treino = metrics.mean_absolute_error(y_treino,y_pred_treino)\n",
    "R2_treino  = metrics.r2_score(y_treino,y_pred_treino)\n",
    "RMSE_treino = sqrt(metrics.mean_squared_error(y_treino,y_pred_treino))\n",
    "\n",
    "print(\"----- Treino 1 --------\")\n",
    "print(\"MAE: \", round(MAE_treino,2))\n",
    "print(\"R2: \", round(R2_treino,2))\n",
    "print(\"RMSE: \", round(RMSE_treino,2))\n",
    "\n",
    "MAE_teste = metrics.mean_absolute_error(y_teste,y_pred_teste)\n",
    "R2_teste  = metrics.r2_score(y_teste,y_pred_teste)\n",
    "RMSE_teste = sqrt(metrics.mean_squared_error(y_teste,y_pred_teste))\n",
    "\n",
    "print(\"----- Teste 1 --------\")\n",
    "print(\"MAE: \", round(MAE_teste,2))\n",
    "print(\"R2: \", round(R2_teste,2))\n",
    "print(\"RMSE: \", round(RMSE_teste,2))"
   ]
  },
  {
   "cell_type": "code",
   "execution_count": 13,
   "id": "153b2670",
   "metadata": {},
   "outputs": [
    {
     "name": "stdout",
     "output_type": "stream",
     "text": [
      "qualidade média do vinho : 5.89\n",
      "Porcentagem do MAE em relação a media da base : 10.09\n"
     ]
    }
   ],
   "source": [
    "print(\"qualidade média do vinho :\" , round(y_teste.mean(),2))\n",
    "print(\"Porcentagem do MAE em relação a media da base :\", round(metrics.mean_absolute_error(y_teste, y_pred_teste)/y_teste.mean()*100,2))"
   ]
  },
  {
   "cell_type": "code",
   "execution_count": 14,
   "id": "f433c0a5",
   "metadata": {},
   "outputs": [
    {
     "data": {
      "text/plain": [
       "sulphates               0.000321\n",
       "density                 0.001217\n",
       "citric acid             0.001537\n",
       "pH                      0.003334\n",
       "chlorides               0.004535\n",
       "total sulfur dioxide    0.004890\n",
       "residual sugar          0.013177\n",
       "fixed acidity           0.013289\n",
       "free sulfur dioxide     0.123069\n",
       "volatile acidity        0.221708\n",
       "alcohol                 0.612924\n",
       "dtype: float64"
      ]
     },
     "execution_count": 14,
     "metadata": {},
     "output_type": "execute_result"
    }
   ],
   "source": [
    "resumo_vars = pd.Series(dict(zip(RF_wine_white.feature_names_in_,RF_wine_white.feature_importances_)))\n",
    "resumo_vars.sort_values()"
   ]
  },
  {
   "cell_type": "code",
   "execution_count": 15,
   "id": "9649af52",
   "metadata": {},
   "outputs": [],
   "source": [
    "x2 = WineData[['alcohol', 'volatile acidity','free sulfur dioxide']]\n",
    "y2 = WineData['quality']"
   ]
  },
  {
   "cell_type": "code",
   "execution_count": 16,
   "id": "4b610459",
   "metadata": {},
   "outputs": [],
   "source": [
    "x_treino_, x_teste_, y_treino_, y_teste_ = train_test_split(x2,y2, test_size=0.3)"
   ]
  },
  {
   "cell_type": "code",
   "execution_count": 17,
   "id": "54bb72f0",
   "metadata": {},
   "outputs": [
    {
     "data": {
      "text/plain": [
       "RandomForestRegressor(max_depth=3, n_estimators=1000, n_jobs=-1, oob_score=True)"
      ]
     },
     "execution_count": 17,
     "metadata": {},
     "output_type": "execute_result"
    }
   ],
   "source": [
    "RF_wine_white2 = RandomForestRegressor(bootstrap = True,\n",
    "                criterion = 'squared_error', max_depth = 3, max_features = 'auto',\n",
    "                min_samples_leaf = 1, min_samples_split = 2,\n",
    "                n_estimators = 1000, n_jobs = -1, oob_score = True)\n",
    "\n",
    "RF_wine_white2.fit(x_treino_,y_treino_)"
   ]
  },
  {
   "cell_type": "code",
   "execution_count": 18,
   "id": "aad636f5",
   "metadata": {},
   "outputs": [],
   "source": [
    "y_pred_teste_ = RF_wine_white2.predict(x_teste_)\n",
    "y_pred_treino_ = RF_wine_white2.predict(x_treino_)"
   ]
  },
  {
   "cell_type": "code",
   "execution_count": 19,
   "id": "1aa659f9",
   "metadata": {},
   "outputs": [
    {
     "name": "stdout",
     "output_type": "stream",
     "text": [
      "----- Treino 2 --------\n",
      "MAE:  0.58\n",
      "R2:  0.31\n",
      "RMSE:  0.74\n",
      "----- Teste 2 --------\n",
      "MAE:  0.59\n",
      "R2:  0.3\n",
      "RMSE:  0.74\n"
     ]
    }
   ],
   "source": [
    "MAE_treino_ = metrics.mean_absolute_error(y_treino_,y_pred_treino_)\n",
    "R2_treino_  = metrics.r2_score(y_treino_,y_pred_treino_)\n",
    "RMSE_treino_ = sqrt(metrics.mean_squared_error(y_treino_,y_pred_treino_))\n",
    "\n",
    "print(\"----- Treino 2 --------\")\n",
    "print(\"MAE: \", round(MAE_treino_,2))\n",
    "print(\"R2: \", round(R2_treino_,2))\n",
    "print(\"RMSE: \", round(RMSE_treino_,2))\n",
    "\n",
    "MAE_teste_ = metrics.mean_absolute_error(y_teste_,y_pred_teste_)\n",
    "R2_teste_  = metrics.r2_score(y_teste_,y_pred_teste_)\n",
    "RMSE_teste_ = sqrt(metrics.mean_squared_error(y_teste_,y_pred_teste_))\n",
    "\n",
    "print(\"----- Teste 2 --------\")\n",
    "print(\"MAE: \", round(MAE_teste_,2))\n",
    "print(\"R2: \", round(R2_teste_,2))\n",
    "print(\"RMSE: \", round(RMSE_teste_,2))"
   ]
  },
  {
   "cell_type": "code",
   "execution_count": 20,
   "id": "24fb9215",
   "metadata": {},
   "outputs": [
    {
     "name": "stdout",
     "output_type": "stream",
     "text": [
      "qualidade média do vinho : 5.9\n",
      "Porcentagem do MAE em relação a media da base : 10.08\n"
     ]
    }
   ],
   "source": [
    "print(\"qualidade média do vinho :\" , round(y_teste_.mean(),2))\n",
    "print(\"Porcentagem do MAE em relação a media da base :\", round(metrics.mean_absolute_error(y_teste_, y_pred_teste_)/y_teste_.mean()*100,2))"
   ]
  },
  {
   "cell_type": "code",
   "execution_count": null,
   "id": "d585efad",
   "metadata": {},
   "outputs": [],
   "source": []
  },
  {
   "cell_type": "code",
   "execution_count": null,
   "id": "b60a12ff",
   "metadata": {},
   "outputs": [],
   "source": []
  },
  {
   "cell_type": "code",
   "execution_count": null,
   "id": "2066e08d",
   "metadata": {},
   "outputs": [],
   "source": []
  },
  {
   "cell_type": "code",
   "execution_count": null,
   "id": "e50c1686",
   "metadata": {},
   "outputs": [],
   "source": []
  },
  {
   "cell_type": "code",
   "execution_count": null,
   "id": "4a352c0b",
   "metadata": {},
   "outputs": [],
   "source": []
  },
  {
   "cell_type": "code",
   "execution_count": null,
   "id": "d4dc9d3f",
   "metadata": {},
   "outputs": [],
   "source": []
  }
 ],
 "metadata": {
  "kernelspec": {
   "display_name": "Python 3 (ipykernel)",
   "language": "python",
   "name": "python3"
  },
  "language_info": {
   "codemirror_mode": {
    "name": "ipython",
    "version": 3
   },
   "file_extension": ".py",
   "mimetype": "text/x-python",
   "name": "python",
   "nbconvert_exporter": "python",
   "pygments_lexer": "ipython3",
   "version": "3.8.13"
  }
 },
 "nbformat": 4,
 "nbformat_minor": 5
}
